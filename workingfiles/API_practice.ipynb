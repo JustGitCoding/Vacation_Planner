{
 "cells": [
  {
   "cell_type": "code",
   "execution_count": 1,
   "id": "0c22d0ab-3d1b-46a1-9415-23890ff1c43b",
   "metadata": {},
   "outputs": [],
   "source": [
    "# Create a practice set of random latitude and longitude combinations.\n",
    "x = [25.12903645, 25.92017388, 26.62509167, -59.98969384, 37.30571269]\n",
    "y = [-67.59741259, 11.09532135, 74.84233102, -76.89176677, -61.13376282]\n",
    "coordinates = zip(x, y)"
   ]
  },
  {
   "cell_type": "code",
   "execution_count": 2,
   "id": "af16d59b-fadf-4bc1-b1e3-35388dd1ccf5",
   "metadata": {},
   "outputs": [],
   "source": [
    "# for coordinate in coordinates:\n",
    "#     print(coordinate[0], coordinate[1])\n",
    "# Commented out because you can only 'unzip' coordinates once"
   ]
  },
  {
   "cell_type": "code",
   "execution_count": 3,
   "id": "6785af96-638e-461e-a09c-c73ac10f562f",
   "metadata": {},
   "outputs": [],
   "source": [
    "# Use the citipy module to determine city based on latitude and longitude.\n",
    "from citipy import citipy"
   ]
  },
  {
   "cell_type": "code",
   "execution_count": 4,
   "id": "d080adc7-673c-4123-b20f-ba4b4be65a97",
   "metadata": {},
   "outputs": [
    {
     "name": "stdout",
     "output_type": "stream",
     "text": [
      "cockburn town tc\n",
      "gat ly\n",
      "parvatsar in\n",
      "punta arenas cl\n",
      "saint george bm\n"
     ]
    }
   ],
   "source": [
    "# Use the tuple() function to display lat/long combo\n",
    "for coordinate in coordinates:\n",
    "    print(citipy.nearest_city(coordinate[0], coordinate[1]).city_name,\n",
    "          citipy.nearest_city(coordinate[0], coordinate[1]).country_code)"
   ]
  },
  {
   "cell_type": "code",
   "execution_count": 5,
   "id": "014fccde-7bcf-4285-8a0c-763973b2994e",
   "metadata": {},
   "outputs": [],
   "source": [
    "# import API key from config.py file -- should be saved in the same folder as the file you're working on\n",
    "import requests\n",
    "from config import weather_api_key"
   ]
  },
  {
   "cell_type": "code",
   "execution_count": 6,
   "id": "a69133ac-a1da-4b4d-a85c-8eeb7803abfe",
   "metadata": {},
   "outputs": [],
   "source": [
    "# Starting URL for Weather Map API call\n",
    "url = \"http://api.openweathermap.org/data/2.5/weather?units=Imperial&APPID=\" + weather_api_key"
   ]
  },
  {
   "cell_type": "code",
   "execution_count": 7,
   "id": "62a48715-0617-464d-a51e-1e664a8d7633",
   "metadata": {},
   "outputs": [],
   "source": [
    "# Create an endpoint URL for a Boston\n",
    "city_url = url + \"&q=\" + \"Boston\""
   ]
  },
  {
   "cell_type": "code",
   "execution_count": 8,
   "id": "e4e428e8-69fd-438f-ba01-8013ed10def0",
   "metadata": {},
   "outputs": [
    {
     "name": "stdout",
     "output_type": "stream",
     "text": [
      "City Weather found.\n"
     ]
    }
   ],
   "source": [
    "# Check if City Weather was found\n",
    "city_weather = requests.get(city_url)\n",
    "if city_weather.status_code == 200:\n",
    "    print(f\"City Weather found.\")\n",
    "else:\n",
    "    print(f\"City weather not found.\")"
   ]
  },
  {
   "cell_type": "code",
   "execution_count": 9,
   "id": "304a3e65-281a-4650-be89-91430fdfe748",
   "metadata": {},
   "outputs": [
    {
     "data": {
      "text/plain": [
       "{'coord': {'lon': -71.0598, 'lat': 42.3584},\n",
       " 'weather': [{'id': 801,\n",
       "   'main': 'Clouds',\n",
       "   'description': 'few clouds',\n",
       "   'icon': '02n'}],\n",
       " 'base': 'stations',\n",
       " 'main': {'temp': 21.54,\n",
       "  'feels_like': 12.96,\n",
       "  'temp_min': 21.54,\n",
       "  'temp_max': 21.54,\n",
       "  'pressure': 1026,\n",
       "  'humidity': 70,\n",
       "  'sea_level': 1026,\n",
       "  'grnd_level': 1026},\n",
       " 'visibility': 10000,\n",
       " 'wind': {'speed': 6.93, 'deg': 318, 'gust': 15.86},\n",
       " 'clouds': {'all': 21},\n",
       " 'dt': 1646089012,\n",
       " 'sys': {'country': 'US', 'sunrise': 1646047289, 'sunset': 1646087544},\n",
       " 'timezone': -18000,\n",
       " 'id': 4930956,\n",
       " 'name': 'Boston',\n",
       " 'cod': 200}"
      ]
     },
     "execution_count": 9,
     "metadata": {},
     "output_type": "execute_result"
    }
   ],
   "source": [
    "# JSON object for Boston\n",
    "city_weather.json()"
   ]
  },
  {
   "cell_type": "code",
   "execution_count": 12,
   "id": "296a90da-475f-433f-a682-bb62069f2374",
   "metadata": {},
   "outputs": [
    {
     "data": {
      "text/plain": [
       "'US'"
      ]
     },
     "execution_count": 12,
     "metadata": {},
     "output_type": "execute_result"
    }
   ],
   "source": [
    "# Get specific JSON data for Boston\n",
    "boston_data = city_weather.json()\n",
    "boston_data['sys']['country']"
   ]
  },
  {
   "cell_type": "code",
   "execution_count": 15,
   "id": "635d2950-68ea-4195-8790-6ff616b4e268",
   "metadata": {},
   "outputs": [
    {
     "name": "stdout",
     "output_type": "stream",
     "text": [
      "42.3584 -71.0598 21.54 70 21 6.93\n"
     ]
    }
   ],
   "source": [
    "lat = boston_data['coord']['lat']\n",
    "lng = boston_data['coord']['lon']\n",
    "max_temp = boston_data['main']['temp_max']\n",
    "humidity = boston_data['main']['humidity']\n",
    "clouds = boston_data['clouds']['all']\n",
    "wind = boston_data['wind']['speed']\n",
    "print(lat, lng, max_temp, humidity, clouds, wind)"
   ]
  },
  {
   "cell_type": "code",
   "execution_count": 18,
   "id": "b748d567-5877-4ad6-8532-450c7a03a844",
   "metadata": {},
   "outputs": [
    {
     "data": {
      "text/plain": [
       "'2022-02-28 22:56:52'"
      ]
     },
     "execution_count": 18,
     "metadata": {},
     "output_type": "execute_result"
    }
   ],
   "source": [
    "# Import datetime module to convert UTC time ito ISO format (International Organization for Standardization)\n",
    "from datetime import datetime\n",
    "\n",
    "# Get date from JSON file\n",
    "date = boston_data['dt']\n",
    "\n",
    "# Convert UTC date to ISO\n",
    "datetime.utcfromtimestamp(date).strftime('%Y-%m-%d %H:%M:%S')"
   ]
  },
  {
   "cell_type": "code",
   "execution_count": 20,
   "id": "5c8db6ba-91b8-416a-8e42-5e554038bc98",
   "metadata": {},
   "outputs": [
    {
     "data": {
      "text/plain": [
       "'02/28/22'"
      ]
     },
     "execution_count": 20,
     "metadata": {},
     "output_type": "execute_result"
    }
   ],
   "source": [
    "# Import time module\n",
    "import time\n",
    "today = time.strftime('%x')\n",
    "today"
   ]
  },
  {
   "cell_type": "code",
   "execution_count": 21,
   "id": "0d79147f-bd02-46b7-95ca-8ff4a1040d49",
   "metadata": {},
   "outputs": [
    {
     "data": {
      "text/plain": [
       "1646097084.3416476"
      ]
     },
     "execution_count": 21,
     "metadata": {},
     "output_type": "execute_result"
    }
   ],
   "source": [
    "time.time()"
   ]
  },
  {
   "cell_type": "code",
   "execution_count": null,
   "id": "0f8b5b32-2882-4367-acf1-54750c06e212",
   "metadata": {},
   "outputs": [],
   "source": []
  }
 ],
 "metadata": {
  "kernelspec": {
   "display_name": "PythonData",
   "language": "python",
   "name": "pythondata"
  },
  "language_info": {
   "codemirror_mode": {
    "name": "ipython",
    "version": 3
   },
   "file_extension": ".py",
   "mimetype": "text/x-python",
   "name": "python",
   "nbconvert_exporter": "python",
   "pygments_lexer": "ipython3",
   "version": "3.7.11"
  }
 },
 "nbformat": 4,
 "nbformat_minor": 5
}
