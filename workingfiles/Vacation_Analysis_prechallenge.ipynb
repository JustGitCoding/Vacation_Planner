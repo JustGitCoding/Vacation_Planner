{
 "cells": [
  {
   "cell_type": "code",
   "execution_count": 1,
   "id": "57fc1edf-7f87-49b6-a99b-9139322d5267",
   "metadata": {},
   "outputs": [],
   "source": [
    "# Import the dependencies.\n",
    "import pandas as pd\n",
    "import gmaps\n",
    "import requests\n",
    "# Import the API key.\n",
    "from config import g_key"
   ]
  },
  {
   "cell_type": "code",
   "execution_count": 2,
   "id": "3790d567-878c-42b8-b38b-216824c2ff07",
   "metadata": {},
   "outputs": [
    {
     "data": {
      "text/plain": [
       "City_ID         int64\n",
       "City           object\n",
       "Country        object\n",
       "Date           object\n",
       "Lat           float64\n",
       "Lng           float64\n",
       "Max Temp      float64\n",
       "Humidity        int64\n",
       "Cloudiness      int64\n",
       "Wind Speed    float64\n",
       "dtype: object"
      ]
     },
     "execution_count": 2,
     "metadata": {},
     "output_type": "execute_result"
    }
   ],
   "source": [
    "city_data_df = pd.read_csv('../Resources/weather_data/cities.csv')\n",
    "city_data_df.dtypes"
   ]
  },
  {
   "cell_type": "code",
   "execution_count": 3,
   "id": "404f62b3-46c6-4dc7-adec-e687e07661d0",
   "metadata": {},
   "outputs": [],
   "source": [
    "# Configure gmaps to use your Google API key.\n",
    "gmaps.configure(api_key=g_key)"
   ]
  },
  {
   "cell_type": "code",
   "execution_count": 4,
   "id": "195431ad-6e4c-431b-bfc4-28d212e5873b",
   "metadata": {},
   "outputs": [],
   "source": [
    "# GENERAL SYNTAX FOR HEATMAPS\n",
    "# # 1. Assign the locations to an array of latitude and longitude pairs.\n",
    "# locations = [latitude, longitude]\n",
    "# # 2. Assign the weights variable to some values.\n",
    "# temperatures = # an array of length equal to the locations array length\n",
    "# # 3. Assign the figure variable to the gmaps.figure() attribute.\n",
    "# fig = gmaps.figure()\n",
    "# # 4. Assign the heatmap_layer variable to the heatmap_layer attribute and add in the locations.\n",
    "# heatmap_layer = gmaps.heatmap_layer(locations, weights=temperatures)\n",
    "\n",
    "# # 5. Add the heatmap layer.\n",
    "# fig.add_layer(heatmap_layer)\n",
    "# # 6. Call the figure to plot the data.\n",
    "# fig"
   ]
  },
  {
   "cell_type": "code",
   "execution_count": 5,
   "id": "4daccad5-ce2f-45d0-9f5a-64ec144d1590",
   "metadata": {},
   "outputs": [],
   "source": [
    "# Google Heatmaps do not plot NEGATIVE numbers - If we have max temp data that is < 0F, then use a for loop to change negative values to 0.\n",
    "# ALTERNATIVELY - do this with list comprehension below\n",
    "# max_temp = city_data_df[\"Max Temp\"]\n",
    "# temps = []\n",
    "# for temp in max_temp:\n",
    "#     temps.append(max(temp, 0))"
   ]
  },
  {
   "cell_type": "code",
   "execution_count": 6,
   "id": "14b555cf-c663-4951-9277-e91e1b121398",
   "metadata": {},
   "outputs": [
    {
     "data": {
      "application/vnd.jupyter.widget-view+json": {
       "model_id": "54f7d1b894fe4e30a9c57cdf96fe0fe6",
       "version_major": 2,
       "version_minor": 0
      },
      "text/plain": [
       "Figure(layout=FigureLayout(height='420px'))"
      ]
     },
     "metadata": {},
     "output_type": "display_data"
    }
   ],
   "source": [
    "# Create a HEATMAP of temperature for selected cities\n",
    "\n",
    "# 1. Assign the locations to an array of latitude and longitude pairs.\n",
    "locations = city_data_df[['Lat','Lng']]\n",
    "\n",
    "# 2. Assign the weights variable to some values.\n",
    "max_temp = city_data_df['Max Temp']\n",
    "\n",
    "# 3. Assign the figure variable to the gmaps.figure() attribute.\n",
    "fig = gmaps.figure(center=(30,0), zoom_level=1.3)\n",
    "\n",
    "# 4. Assign the heatmap_layer variable to the heatmap_layer attribute and add in the locations.\n",
    "heat_layer = gmaps.heatmap_layer(locations, weights=[max(0,temp) for temp in max_temp],\n",
    "                                dissipating=False, max_intensity=300, point_radius=4)\n",
    "\n",
    "# 5. Add the heatmap layer.\n",
    "fig.add_layer(heat_layer)\n",
    "\n",
    "# 6. Call the figure to plot the data.\n",
    "fig"
   ]
  },
  {
   "cell_type": "code",
   "execution_count": 7,
   "id": "7c182ee1-83c5-4605-ba08-2c99f6f416b7",
   "metadata": {},
   "outputs": [
    {
     "data": {
      "application/vnd.jupyter.widget-view+json": {
       "model_id": "f46f92d7de674e6b9ecd534eb0eb715b",
       "version_major": 2,
       "version_minor": 0
      },
      "text/plain": [
       "Figure(layout=FigureLayout(height='420px'))"
      ]
     },
     "metadata": {},
     "output_type": "display_data"
    }
   ],
   "source": [
    "# Create a HEATMAP of Humidity for selected cities\n",
    "\n",
    "# 1. Assign the locations to an array of latitude and longitude pairs.\n",
    "locations = city_data_df[['Lat','Lng']]\n",
    "\n",
    "# 2. Assign the weights variable to some values.\n",
    "humidity = city_data_df['Humidity']\n",
    "\n",
    "# 3. Assign the figure variable to the gmaps.figure() attribute.\n",
    "fig = gmaps.figure(center=(30,0), zoom_level=1.3)\n",
    "\n",
    "# 4. Assign the heatmap_layer variable to the heatmap_layer attribute and add in the locations.\n",
    "heat_layer = gmaps.heatmap_layer(locations, weights=humidity,\n",
    "                                dissipating=False, max_intensity=300, point_radius=4)\n",
    "\n",
    "# 5. Add the heatmap layer.\n",
    "fig.add_layer(heat_layer)\n",
    "\n",
    "# 6. Call the figure to plot the data.\n",
    "fig"
   ]
  },
  {
   "cell_type": "code",
   "execution_count": 8,
   "id": "f1b2bb19",
   "metadata": {},
   "outputs": [
    {
     "data": {
      "application/vnd.jupyter.widget-view+json": {
       "model_id": "3cbfdfc665a648ddb5c6355965673a47",
       "version_major": 2,
       "version_minor": 0
      },
      "text/plain": [
       "Figure(layout=FigureLayout(height='420px'))"
      ]
     },
     "metadata": {},
     "output_type": "display_data"
    }
   ],
   "source": [
    "# Create a HEATMAP of Cloudiness for selected cities\n",
    "\n",
    "# 1. Assign the locations to an array of latitude and longitude pairs.\n",
    "locations = city_data_df[['Lat','Lng']]\n",
    "\n",
    "# 2. Assign the weights variable to some values.\n",
    "clouds = city_data_df['Cloudiness']\n",
    "\n",
    "# 3. Assign the figure variable to the gmaps.figure() attribute.\n",
    "fig = gmaps.figure(center=(30,0), zoom_level=1.3)\n",
    "\n",
    "# 4. Assign the heatmap_layer variable to the heatmap_layer attribute and add in the locations.\n",
    "heat_layer = gmaps.heatmap_layer(locations, weights=clouds,\n",
    "                                dissipating=False, max_intensity=300, point_radius=4)\n",
    "\n",
    "# 5. Add the heatmap layer.\n",
    "fig.add_layer(heat_layer)\n",
    "\n",
    "# 6. Call the figure to plot the data.\n",
    "fig"
   ]
  },
  {
   "cell_type": "code",
   "execution_count": 9,
   "id": "03dab8da",
   "metadata": {},
   "outputs": [
    {
     "data": {
      "application/vnd.jupyter.widget-view+json": {
       "model_id": "59d09b455db8479f8536c9849c9afe65",
       "version_major": 2,
       "version_minor": 0
      },
      "text/plain": [
       "Figure(layout=FigureLayout(height='420px'))"
      ]
     },
     "metadata": {},
     "output_type": "display_data"
    }
   ],
   "source": [
    "# Create a HEATMAP of Wind Speeds for selected cities\n",
    "\n",
    "# 1. Assign the locations to an array of latitude and longitude pairs.\n",
    "locations = city_data_df[['Lat','Lng']]\n",
    "\n",
    "# 2. Assign the weights variable to some values.\n",
    "winds = city_data_df['Wind Speed']\n",
    "\n",
    "# 3. Assign the figure variable to the gmaps.figure() attribute.\n",
    "fig = gmaps.figure(center=(30,0), zoom_level=1.3)\n",
    "\n",
    "# 4. Assign the heatmap_layer variable to the heatmap_layer attribute and add in the locations.\n",
    "heat_layer = gmaps.heatmap_layer(locations, weights=winds,\n",
    "                                dissipating=False, max_intensity=300, point_radius=4)\n",
    "\n",
    "# 5. Add the heatmap layer.\n",
    "fig.add_layer(heat_layer)\n",
    "\n",
    "# 6. Call the figure to plot the data.\n",
    "fig"
   ]
  },
  {
   "cell_type": "code",
   "execution_count": 10,
   "id": "15c1168f",
   "metadata": {},
   "outputs": [
    {
     "name": "stdout",
     "output_type": "stream",
     "text": [
      "What is the min temp you'd accept for your trip?75\n",
      "What is the max temp you'd accept for your trip?90\n"
     ]
    }
   ],
   "source": [
    "# Ask customer for input on min/max temperature values\n",
    "min_temp = float(input(\"What is the min temp you'd accept for your trip?\"))\n",
    "max_temp = float(input(\"What is the max temp you'd accept for your trip?\"))"
   ]
  },
  {
   "cell_type": "code",
   "execution_count": 11,
   "id": "40b79598",
   "metadata": {},
   "outputs": [
    {
     "data": {
      "text/plain": [
       "City_ID       195\n",
       "City          195\n",
       "Country       195\n",
       "Date          195\n",
       "Lat           195\n",
       "Lng           195\n",
       "Max Temp      195\n",
       "Humidity      195\n",
       "Cloudiness    195\n",
       "Wind Speed    195\n",
       "dtype: int64"
      ]
     },
     "execution_count": 11,
     "metadata": {},
     "output_type": "execute_result"
    }
   ],
   "source": [
    "# Filter city list to find cities that meet customer criteria\n",
    "preferred_cities_df = city_data_df.loc[(city_data_df['Max Temp'] <= max_temp) & (city_data_df['Max Temp'] >= min_temp)].dropna()\n",
    "preferred_cities_df.count()"
   ]
  },
  {
   "cell_type": "code",
   "execution_count": 12,
   "id": "c0064778",
   "metadata": {},
   "outputs": [
    {
     "name": "stderr",
     "output_type": "stream",
     "text": [
      "C:\\Users\\jhkia\\AppData\\Roaming\\Python\\Python37\\site-packages\\ipykernel_launcher.py:3: SettingWithCopyWarning: \n",
      "A value is trying to be set on a copy of a slice from a DataFrame.\n",
      "Try using .loc[row_indexer,col_indexer] = value instead\n",
      "\n",
      "See the caveats in the documentation: https://pandas.pydata.org/pandas-docs/stable/user_guide/indexing.html#returning-a-view-versus-a-copy\n",
      "  This is separate from the ipykernel package so we can avoid doing imports until\n"
     ]
    },
    {
     "data": {
      "text/html": [
       "<div>\n",
       "<style scoped>\n",
       "    .dataframe tbody tr th:only-of-type {\n",
       "        vertical-align: middle;\n",
       "    }\n",
       "\n",
       "    .dataframe tbody tr th {\n",
       "        vertical-align: top;\n",
       "    }\n",
       "\n",
       "    .dataframe thead th {\n",
       "        text-align: right;\n",
       "    }\n",
       "</style>\n",
       "<table border=\"1\" class=\"dataframe\">\n",
       "  <thead>\n",
       "    <tr style=\"text-align: right;\">\n",
       "      <th></th>\n",
       "      <th>City</th>\n",
       "      <th>Country</th>\n",
       "      <th>Max Temp</th>\n",
       "      <th>Lat</th>\n",
       "      <th>Lng</th>\n",
       "      <th>Hotel Name</th>\n",
       "    </tr>\n",
       "  </thead>\n",
       "  <tbody>\n",
       "    <tr>\n",
       "      <th>1</th>\n",
       "      <td>Talaja</td>\n",
       "      <td>IN</td>\n",
       "      <td>77.36</td>\n",
       "      <td>21.3500</td>\n",
       "      <td>72.0500</td>\n",
       "      <td></td>\n",
       "    </tr>\n",
       "    <tr>\n",
       "      <th>2</th>\n",
       "      <td>Bengkulu</td>\n",
       "      <td>ID</td>\n",
       "      <td>76.03</td>\n",
       "      <td>-3.8004</td>\n",
       "      <td>102.2655</td>\n",
       "      <td></td>\n",
       "    </tr>\n",
       "    <tr>\n",
       "      <th>6</th>\n",
       "      <td>Kapaa</td>\n",
       "      <td>US</td>\n",
       "      <td>76.48</td>\n",
       "      <td>22.0752</td>\n",
       "      <td>-159.3190</td>\n",
       "      <td></td>\n",
       "    </tr>\n",
       "    <tr>\n",
       "      <th>16</th>\n",
       "      <td>Georgetown</td>\n",
       "      <td>MY</td>\n",
       "      <td>80.53</td>\n",
       "      <td>5.4112</td>\n",
       "      <td>100.3354</td>\n",
       "      <td></td>\n",
       "    </tr>\n",
       "    <tr>\n",
       "      <th>17</th>\n",
       "      <td>Valparaiso</td>\n",
       "      <td>CL</td>\n",
       "      <td>84.43</td>\n",
       "      <td>-33.0393</td>\n",
       "      <td>-71.6273</td>\n",
       "      <td></td>\n",
       "    </tr>\n",
       "    <tr>\n",
       "      <th>19</th>\n",
       "      <td>Hithadhoo</td>\n",
       "      <td>MV</td>\n",
       "      <td>84.74</td>\n",
       "      <td>-0.6000</td>\n",
       "      <td>73.0833</td>\n",
       "      <td></td>\n",
       "    </tr>\n",
       "    <tr>\n",
       "      <th>20</th>\n",
       "      <td>Axim</td>\n",
       "      <td>GH</td>\n",
       "      <td>80.38</td>\n",
       "      <td>4.8699</td>\n",
       "      <td>-2.2405</td>\n",
       "      <td></td>\n",
       "    </tr>\n",
       "    <tr>\n",
       "      <th>22</th>\n",
       "      <td>Atuona</td>\n",
       "      <td>PF</td>\n",
       "      <td>78.58</td>\n",
       "      <td>-9.8000</td>\n",
       "      <td>-139.0333</td>\n",
       "      <td></td>\n",
       "    </tr>\n",
       "    <tr>\n",
       "      <th>23</th>\n",
       "      <td>Rikitea</td>\n",
       "      <td>PF</td>\n",
       "      <td>78.26</td>\n",
       "      <td>-23.1203</td>\n",
       "      <td>-134.9692</td>\n",
       "      <td></td>\n",
       "    </tr>\n",
       "    <tr>\n",
       "      <th>30</th>\n",
       "      <td>Mar Del Plata</td>\n",
       "      <td>AR</td>\n",
       "      <td>79.88</td>\n",
       "      <td>-38.0023</td>\n",
       "      <td>-57.5575</td>\n",
       "      <td></td>\n",
       "    </tr>\n",
       "  </tbody>\n",
       "</table>\n",
       "</div>"
      ],
      "text/plain": [
       "             City Country  Max Temp      Lat       Lng Hotel Name\n",
       "1          Talaja      IN     77.36  21.3500   72.0500           \n",
       "2        Bengkulu      ID     76.03  -3.8004  102.2655           \n",
       "6           Kapaa      US     76.48  22.0752 -159.3190           \n",
       "16     Georgetown      MY     80.53   5.4112  100.3354           \n",
       "17     Valparaiso      CL     84.43 -33.0393  -71.6273           \n",
       "19      Hithadhoo      MV     84.74  -0.6000   73.0833           \n",
       "20           Axim      GH     80.38   4.8699   -2.2405           \n",
       "22         Atuona      PF     78.58  -9.8000 -139.0333           \n",
       "23        Rikitea      PF     78.26 -23.1203 -134.9692           \n",
       "30  Mar Del Plata      AR     79.88 -38.0023  -57.5575           "
      ]
     },
     "execution_count": 12,
     "metadata": {},
     "output_type": "execute_result"
    }
   ],
   "source": [
    "# Create a new DF to store hotel names for preferred cities DF (since pref_cities_DF may be reset based on each customer's preferences)\n",
    "hotel_df = preferred_cities_df[['City','Country','Max Temp','Lat','Lng']]\n",
    "hotel_df['Hotel Name'] = \"\"\n",
    "hotel_df.head(10)"
   ]
  },
  {
   "cell_type": "code",
   "execution_count": 13,
   "id": "4f751ea9",
   "metadata": {},
   "outputs": [],
   "source": [
    "# Set parameters for API call as key-value pairs\n",
    "params = {\n",
    "    'radius': 5000,\n",
    "    'type': 'lodging',\n",
    "    'key': g_key\n",
    "}"
   ]
  },
  {
   "cell_type": "code",
   "execution_count": 14,
   "id": "2e86a4c7",
   "metadata": {},
   "outputs": [
    {
     "name": "stderr",
     "output_type": "stream",
     "text": [
      "C:\\Users\\jhkia\\anaconda3\\envs\\PythonData\\lib\\site-packages\\pandas\\core\\indexing.py:1817: SettingWithCopyWarning: \n",
      "A value is trying to be set on a copy of a slice from a DataFrame.\n",
      "Try using .loc[row_indexer,col_indexer] = value instead\n",
      "\n",
      "See the caveats in the documentation: https://pandas.pydata.org/pandas-docs/stable/user_guide/indexing.html#returning-a-view-versus-a-copy\n",
      "  self._setitem_single_column(loc, value, pi)\n"
     ]
    },
    {
     "name": "stdout",
     "output_type": "stream",
     "text": [
      "Hotel not found in Tessalit. SKIP\n",
      "Hotel not found in Sabla. SKIP\n",
      "Hotel not found in Manuk Mangkaw. SKIP\n",
      "Hotel not found in Poya. SKIP\n",
      "Hotel not found in Ouallam. SKIP\n",
      "Hotel not found in Bonfim. SKIP\n",
      "Hotel not found in Beinamar. SKIP\n",
      "Hotel not found in Esparta. SKIP\n",
      "Hotel not found in Puro. SKIP\n",
      "Hotel not found in Raga. SKIP\n",
      "Hotel not found in Qandala. SKIP\n",
      "Hotel not found in Poum. SKIP\n",
      "Hotel not found in Aitape. SKIP\n",
      "Hotel not found in Gao. SKIP\n"
     ]
    }
   ],
   "source": [
    "# Iterate through hotel_df to find hotel names for preferred cities\n",
    "for index, row in hotel_df.iterrows():\n",
    "    \n",
    "    # Get lat / lng\n",
    "    lat = row['Lat']\n",
    "    lng = row['Lng']\n",
    "    \n",
    "    #add lat and lng to location key for params dictionary\n",
    "    params['location'] = f'{lat},{lng}'\n",
    "    \n",
    "    # Use the search term: 'lodging' and our latitude and longitude.\n",
    "    base_url = \"https://maps.googleapis.com/maps/api/place/nearbysearch/json\"\n",
    "    \n",
    "    # Make request and get JSON data from the search\n",
    "    hotels = requests.get(base_url, params=params).json()\n",
    "    \n",
    "    # Grab the first hotel from the results and store the name in our DF\n",
    "    try:\n",
    "        hotel_df.loc[index,'Hotel Name'] = hotels['results'][0]['name']\n",
    "    except (IndexError):\n",
    "        print(f\"Hotel not found in {row['City']}. SKIP\")"
   ]
  },
  {
   "cell_type": "code",
   "execution_count": 23,
   "id": "0ae3fcc8",
   "metadata": {},
   "outputs": [],
   "source": [
    "# Create infoboxes to add to gmap markers\n",
    "info_box_template = \"\"\"\n",
    "<dl>\n",
    "<dt>Hotel Name</dt><dd>{Hotel Name}</dd>\n",
    "<dt>City</dt><dd>{City}</dd>\n",
    "<dt>Country</dt><dd>{Country}</dd>\n",
    "<dt>Max Temp</dt><dd>{Max Temp} °F</dd>\n",
    "</dl>\n",
    "\"\"\""
   ]
  },
  {
   "cell_type": "code",
   "execution_count": 26,
   "id": "fe2e7bdb",
   "metadata": {},
   "outputs": [],
   "source": [
    "#Store the info_box for the DataFrame Row\n",
    "hotel_info = [info_box_template.format(**row) for index, row in hotel_df.iterrows()]"
   ]
  },
  {
   "cell_type": "code",
   "execution_count": 27,
   "id": "c3452c9d",
   "metadata": {},
   "outputs": [
    {
     "data": {
      "application/vnd.jupyter.widget-view+json": {
       "model_id": "8c28a6463fd84c73b7e94ccaa3cfb292",
       "version_major": 2,
       "version_minor": 0
      },
      "text/plain": [
       "Figure(layout=FigureLayout(height='420px'))"
      ]
     },
     "metadata": {},
     "output_type": "display_data"
    }
   ],
   "source": [
    "# Add a heatmap of temperatures for the vacation destinations\n",
    "locations = hotel_df[['Lat','Lng']]\n",
    "max_temp = hotel_df['Max Temp']\n",
    "fig = gmaps.figure(center=(30,0), zoom_level=1.3)\n",
    "heat_layer = gmaps.heatmap_layer(locations, weights=max_temp, \n",
    "                                 dissipating=False, max_intensity=300, point_radius=4)\n",
    "fig.add_layer(heat_layer)\n",
    "\n",
    "# Add markers with pop-up infoboxes\n",
    "marker_layer = gmaps.marker_layer(locations, info_box_content=hotel_info)\n",
    "fig.add_layer(marker_layer)\n",
    "\n",
    "fig"
   ]
  },
  {
   "cell_type": "code",
   "execution_count": null,
   "id": "64975240",
   "metadata": {},
   "outputs": [],
   "source": []
  }
 ],
 "metadata": {
  "kernelspec": {
   "display_name": "PythonData",
   "language": "python",
   "name": "pythondata"
  },
  "language_info": {
   "codemirror_mode": {
    "name": "ipython",
    "version": 3
   },
   "file_extension": ".py",
   "mimetype": "text/x-python",
   "name": "python",
   "nbconvert_exporter": "python",
   "pygments_lexer": "ipython3",
   "version": "3.7.11"
  }
 },
 "nbformat": 4,
 "nbformat_minor": 5
}
