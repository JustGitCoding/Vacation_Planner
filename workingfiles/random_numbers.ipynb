{
 "cells": [
  {
   "cell_type": "code",
   "execution_count": 1,
   "id": "fe0eb038-f50d-4dd9-a94c-47f569bd0e1e",
   "metadata": {},
   "outputs": [],
   "source": [
    "# Dependencies\n",
    "import random"
   ]
  },
  {
   "cell_type": "code",
   "execution_count": 2,
   "id": "52697a1b-125b-4a65-8e3b-1d3db202f46f",
   "metadata": {},
   "outputs": [
    {
     "data": {
      "text/plain": [
       "0.9604700523614728"
      ]
     },
     "execution_count": 2,
     "metadata": {},
     "output_type": "execute_result"
    }
   ],
   "source": [
    "# Random float between 0 and 1\n",
    "random.random()"
   ]
  },
  {
   "cell_type": "code",
   "execution_count": 3,
   "id": "8a9640f5-1b6b-4a57-9f3d-8e1dc27dedba",
   "metadata": {},
   "outputs": [
    {
     "data": {
      "text/plain": [
       "-9"
      ]
     },
     "execution_count": 3,
     "metadata": {},
     "output_type": "execute_result"
    }
   ],
   "source": [
    "# Random integer\n",
    "random.randint(-10,10)"
   ]
  },
  {
   "cell_type": "code",
   "execution_count": 4,
   "id": "086cf01b-bf95-46b2-9117-95e6ed4a22ff",
   "metadata": {},
   "outputs": [
    {
     "data": {
      "text/plain": [
       "-5"
      ]
     },
     "execution_count": 4,
     "metadata": {},
     "output_type": "execute_result"
    }
   ],
   "source": [
    "# Random integer with step value\n",
    "random.randrange(-9,9,step=2)"
   ]
  },
  {
   "cell_type": "code",
   "execution_count": 5,
   "id": "637e436a-c34b-47cf-a44b-c0e274f75489",
   "metadata": {},
   "outputs": [
    {
     "data": {
      "text/plain": [
       "-6.30425862653885"
      ]
     },
     "execution_count": 5,
     "metadata": {},
     "output_type": "execute_result"
    }
   ],
   "source": [
    "# Random float\n",
    "random.uniform(-10,10)"
   ]
  },
  {
   "cell_type": "code",
   "execution_count": 6,
   "id": "65d87ead-c12d-4beb-b793-d96ab542ebbb",
   "metadata": {},
   "outputs": [],
   "source": [
    "# Dependencies\n",
    "import numpy as np\n",
    "# if we use numpy random module, no need to import random above\n",
    "\n",
    "import timeit"
   ]
  },
  {
   "cell_type": "code",
   "execution_count": 7,
   "id": "3cbddc9a-63d4-4203-9297-919c5876ebcb",
   "metadata": {},
   "outputs": [
    {
     "data": {
      "text/plain": [
       "12.166841069121801"
      ]
     },
     "execution_count": 7,
     "metadata": {},
     "output_type": "execute_result"
    }
   ],
   "source": [
    "# NumPy random module\n",
    "np.random.uniform(-90.000, 90.000)"
   ]
  },
  {
   "cell_type": "code",
   "execution_count": 8,
   "id": "226b2156-13ec-4f2b-b7a1-665afb7c2f7b",
   "metadata": {},
   "outputs": [
    {
     "data": {
      "text/plain": [
       "array([-24.50794385, -41.89571753, -40.34616427, -63.33321738,\n",
       "        66.43229934, -54.15648766, -54.13664864, -37.99284997,\n",
       "        59.33924385,  19.13706702, -83.06255575,  79.15204511,\n",
       "        13.12622158, -13.15320991, -37.62762531,  60.33230014,\n",
       "       -69.40631128,  74.52126798,  75.68125427, -53.53803686,\n",
       "       -23.57382008,  44.08381825,   9.8683589 , -74.20926043,\n",
       "       -41.7899852 ,  85.97472511,  24.06145256, -14.5090651 ,\n",
       "        37.67162234,  45.91174547,  38.93583184,  47.45555461,\n",
       "       -81.72997366,   3.62278787, -62.22448849, -84.8839352 ,\n",
       "       -18.37258485, -73.3908088 , -31.57741271, -62.54661714,\n",
       "        43.05012851, -77.62460922,   0.37812494,  22.77803189,\n",
       "        80.75344347,  21.20818979,  66.13862629,  27.51151073,\n",
       "       -19.85476669, -54.05370941])"
      ]
     },
     "execution_count": 8,
     "metadata": {},
     "output_type": "execute_result"
    }
   ],
   "source": [
    "# NumPy random module\n",
    "np.random.uniform(low=-90.000, high=90.000, size=50)"
   ]
  },
  {
   "cell_type": "code",
   "execution_count": 9,
   "id": "53f4536f-0234-4a1f-830d-9c3f57eb1cfa",
   "metadata": {},
   "outputs": [
    {
     "name": "stdout",
     "output_type": "stream",
     "text": [
      "11.5 µs ± 209 ns per loop (mean ± std. dev. of 7 runs, 100000 loops each)\n"
     ]
    }
   ],
   "source": [
    "# Time how long it takes to run a cell\n",
    "%timeit np.random.uniform(-90.000, 90.000, size=1500)"
   ]
  },
  {
   "cell_type": "code",
   "execution_count": 10,
   "id": "e8a3e474-7296-4fc3-a3d9-a102642730e8",
   "metadata": {},
   "outputs": [
    {
     "name": "stdout",
     "output_type": "stream",
     "text": [
      "1.44 ms ± 31.9 µs per loop (mean ± std. dev. of 7 runs, 1000 loops each)\n"
     ]
    }
   ],
   "source": [
    "# Generate 1500 random latitudes using function & while loop instead of NumPy\n",
    "def latitudes(size):\n",
    "    latitudes = []\n",
    "    x=0\n",
    "    while x < (size):\n",
    "        random_lat = random.randint(-90,90) + random.random()\n",
    "        latitudes.append(random_lat)\n",
    "        x+=1\n",
    "    return latitudes\n",
    "\n",
    "# Call the function with 1500 iterations\n",
    "%timeit latitudes(1500)"
   ]
  },
  {
   "cell_type": "code",
   "execution_count": 14,
   "id": "f1f6f393-bdf1-4f25-925b-0469fa77548c",
   "metadata": {},
   "outputs": [
    {
     "name": "stdout",
     "output_type": "stream",
     "text": [
      "348 µs ± 20.1 µs per loop (mean ± std. dev. of 7 runs, 1000 loops each)\n"
     ]
    }
   ],
   "source": [
    "# Generate 1500 random latitudes using function & for loop instead of while loop\n",
    "def latitudes(size):\n",
    "    latitudes = []\n",
    "    for x in range(0,size):\n",
    "        random_lat = random.uniform(-90.000,90.000)\n",
    "        latitudes.append(random_lat)\n",
    "    return latitudes\n",
    "\n",
    "# Call the function with 1500 iterations\n",
    "%timeit latitudes(1500)"
   ]
  },
  {
   "cell_type": "code",
   "execution_count": null,
   "id": "04d751ae-956c-4776-b8c3-0a7e8fc544ee",
   "metadata": {},
   "outputs": [],
   "source": []
  }
 ],
 "metadata": {
  "kernelspec": {
   "display_name": "PythonData",
   "language": "python",
   "name": "pythondata"
  },
  "language_info": {
   "codemirror_mode": {
    "name": "ipython",
    "version": 3
   },
   "file_extension": ".py",
   "mimetype": "text/x-python",
   "name": "python",
   "nbconvert_exporter": "python",
   "pygments_lexer": "ipython3",
   "version": "3.7.11"
  }
 },
 "nbformat": 4,
 "nbformat_minor": 5
}
